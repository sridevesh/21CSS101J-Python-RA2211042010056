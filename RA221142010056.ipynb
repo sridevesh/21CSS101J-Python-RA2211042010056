{
  "nbformat": 4,
  "nbformat_minor": 0,
  "metadata": {
    "colab": {
      "provenance": [],
      "authorship_tag": "ABX9TyNZVGz+64vJgIwa3G+7Wwnd",
      "include_colab_link": true
    },
    "kernelspec": {
      "name": "python3",
      "display_name": "Python 3"
    },
    "language_info": {
      "name": "python"
    }
  },
  "cells": [
    {
      "cell_type": "markdown",
      "metadata": {
        "id": "view-in-github",
        "colab_type": "text"
      },
      "source": [
        "<a href=\"https://colab.research.google.com/github/sridevesh/21CSS101J-Python-RA2211042010056/blob/main/RA221142010056.ipynb\" target=\"_parent\"><img src=\"https://colab.research.google.com/assets/colab-badge.svg\" alt=\"Open In Colab\"/></a>"
      ]
    },
    {
      "cell_type": "code",
      "execution_count": null,
      "metadata": {
        "colab": {
          "base_uri": "https://localhost:8080/"
        },
        "id": "No8qrhLcHG9b",
        "outputId": "a85dd508-df69-486f-bea2-139ab8d90073"
      },
      "outputs": [
        {
          "output_type": "stream",
          "name": "stdout",
          "text": [
            "Hello World\n"
          ]
        }
      ],
      "source": [
        "print(\"Hello World\")"
      ]
    },
    {
      "cell_type": "code",
      "source": [
        "print(\"Hi Devesh\")"
      ],
      "metadata": {
        "colab": {
          "base_uri": "https://localhost:8080/"
        },
        "id": "CL-dEQIMJEBc",
        "outputId": "0af77e48-7027-4e04-f4f1-71e9e40745f7"
      },
      "execution_count": null,
      "outputs": [
        {
          "output_type": "stream",
          "name": "stdout",
          "text": [
            "Hi Devesh\n"
          ]
        }
      ]
    },
    {
      "cell_type": "markdown",
      "source": [
        "***Display text***"
      ],
      "metadata": {
        "id": "rFLCZEsaOQCv"
      }
    },
    {
      "cell_type": "code",
      "source": [
        "num1=10\n",
        "num2=20\n",
        "sum=num1+num2\n",
        "print(sum)"
      ],
      "metadata": {
        "id": "36iF_Q9_M0CW",
        "outputId": "adfd658f-89f7-4dd5-c432-7e89a6a5ac9f",
        "colab": {
          "base_uri": "https://localhost:8080/"
        }
      },
      "execution_count": 1,
      "outputs": [
        {
          "output_type": "stream",
          "name": "stdout",
          "text": [
            "30\n"
          ]
        }
      ]
    },
    {
      "cell_type": "code",
      "source": [
        "num1 = input(\"Enter first number\")\n",
        "num2 = input(\"Enter second number\")\n",
        "sum = float(num1)+float(num2)\n",
        "print(sum)"
      ],
      "metadata": {
        "id": "ro2fgZNKPnq7",
        "outputId": "37f88518-dceb-443e-f33c-b2b0c0871dfa",
        "colab": {
          "base_uri": "https://localhost:8080/"
        }
      },
      "execution_count": 2,
      "outputs": [
        {
          "output_type": "stream",
          "name": "stdout",
          "text": [
            "Enter first number12\n",
            "Enter second number15\n",
            "27.0\n"
          ]
        }
      ]
    },
    {
      "cell_type": "code",
      "source": [
        "a=5\n",
        "b=10\n",
        "print(a)\n",
        "print(b)"
      ],
      "metadata": {
        "id": "QpLA1MgARImk",
        "outputId": "b5c0600a-8423-4dba-c17f-a05959ecccd3",
        "colab": {
          "base_uri": "https://localhost:8080/"
        }
      },
      "execution_count": 3,
      "outputs": [
        {
          "output_type": "stream",
          "name": "stdout",
          "text": [
            "5\n",
            "10\n"
          ]
        }
      ]
    },
    {
      "cell_type": "code",
      "source": [
        "a=10\n",
        "b=20\n",
        "print(a+b)"
      ],
      "metadata": {
        "id": "7ObYd_6qRr_e",
        "outputId": "abe50622-74b2-4597-ba68-db37c1fe3f26",
        "colab": {
          "base_uri": "https://localhost:8080/"
        }
      },
      "execution_count": 4,
      "outputs": [
        {
          "output_type": "stream",
          "name": "stdout",
          "text": [
            "30\n"
          ]
        }
      ]
    },
    {
      "cell_type": "code",
      "source": [
        "a=10\n",
        "b=30\n",
        "print(b/a)"
      ],
      "metadata": {
        "id": "3rWsWVTSR3kp",
        "outputId": "121ecce2-d439-4513-86c6-fbe0ea1763dd",
        "colab": {
          "base_uri": "https://localhost:8080/"
        }
      },
      "execution_count": 5,
      "outputs": [
        {
          "output_type": "stream",
          "name": "stdout",
          "text": [
            "3.0\n"
          ]
        }
      ]
    },
    {
      "cell_type": "code",
      "source": [
        "a=50\n",
        "b=100\n",
        "print(a<b)"
      ],
      "metadata": {
        "id": "0YG6Y7h8SDVD",
        "outputId": "7ff800be-01de-43d1-c188-3272ad192b62",
        "colab": {
          "base_uri": "https://localhost:8080/"
        }
      },
      "execution_count": 6,
      "outputs": [
        {
          "output_type": "stream",
          "name": "stdout",
          "text": [
            "True\n"
          ]
        }
      ]
    },
    {
      "cell_type": "code",
      "source": [
        "a=10\n",
        "b=15\n",
        "print(a%b)"
      ],
      "metadata": {
        "id": "9-63MP2TSlnm",
        "outputId": "229a7ab5-874e-46bb-b310-9544874323eb",
        "colab": {
          "base_uri": "https://localhost:8080/"
        }
      },
      "execution_count": 7,
      "outputs": [
        {
          "output_type": "stream",
          "name": "stdout",
          "text": [
            "10\n"
          ]
        }
      ]
    },
    {
      "cell_type": "code",
      "source": [
        "a,b=10,20\n",
        "print(a+b)"
      ],
      "metadata": {
        "id": "cMdS9hAOSueo",
        "outputId": "b896ea0f-38e0-4c7d-8ac0-0023a32f7022",
        "colab": {
          "base_uri": "https://localhost:8080/"
        }
      },
      "execution_count": 8,
      "outputs": [
        {
          "output_type": "stream",
          "name": "stdout",
          "text": [
            "30\n"
          ]
        }
      ]
    },
    {
      "cell_type": "code",
      "source": [
        "a,b=10,50\n",
        "print(a*b)"
      ],
      "metadata": {
        "id": "a2Nogqc9TWDn",
        "outputId": "1c6756e6-84d0-4533-fcdb-a792b43a9869",
        "colab": {
          "base_uri": "https://localhost:8080/"
        }
      },
      "execution_count": 9,
      "outputs": [
        {
          "output_type": "stream",
          "name": "stdout",
          "text": [
            "500\n"
          ]
        }
      ]
    },
    {
      "cell_type": "code",
      "source": [
        "a=5\n",
        "b=5\n",
        "sum = max(a,b)\n",
        "print(sum)"
      ],
      "metadata": {
        "id": "AfddK5SeTmUF",
        "outputId": "82128b1c-8aa3-4648-dcf1-892715faff83",
        "colab": {
          "base_uri": "https://localhost:8080/"
        }
      },
      "execution_count": 12,
      "outputs": [
        {
          "output_type": "stream",
          "name": "stdout",
          "text": [
            "5\n"
          ]
        }
      ]
    },
    {
      "cell_type": "code",
      "source": [
        "a,b=10,20\n",
        "print(a==b)"
      ],
      "metadata": {
        "id": "9a1ESMa8Upib",
        "outputId": "ef409b8b-a805-4647-ff20-bcb579fa14d6",
        "colab": {
          "base_uri": "https://localhost:8080/"
        }
      },
      "execution_count": 13,
      "outputs": [
        {
          "output_type": "stream",
          "name": "stdout",
          "text": [
            "False\n"
          ]
        }
      ]
    },
    {
      "cell_type": "code",
      "source": [],
      "metadata": {
        "id": "E-U_sbwdWrwf"
      },
      "execution_count": null,
      "outputs": []
    },
    {
      "cell_type": "code",
      "source": [],
      "metadata": {
        "id": "Q654M1-yWr3g"
      },
      "execution_count": null,
      "outputs": []
    }
  ]
}